{
 "cells": [
  {
   "cell_type": "code",
   "execution_count": 10,
   "metadata": {},
   "outputs": [],
   "source": [
    "from qiskit import IBMQ\n",
    "from qiskit.aqua import QuantumInstance\n",
    "from qiskit.aqua.algorithms import Shor"
   ]
  },
  {
   "cell_type": "code",
   "execution_count": null,
   "metadata": {},
   "outputs": [
    {
     "name": "stdout",
     "output_type": "stream",
     "text": [
      "\n",
      " Shors Algorithm\n",
      "--------------------\n",
      "\n",
      "Executing...\n",
      "\n",
      "[[5, 7]]\n",
      "\n",
      "Press any key to close\n"
     ]
    }
   ],
   "source": [
    "#IBMQ.enable_account('480a9224e37aad2aed2570ca558a19ed1978a6157802abab6689c87dd7046518480e2fb30df105c3ceac8a66e0e17bfb4af02ad01841e267b22d744803f2c3aa') \n",
    "#provider = IBMQ.get_provider(hub='ibm-q')\n",
    "\n",
    "IBMQ.save_account('480a9224e37aad2aed2570ca558a19ed1978a6157802abab6689c87dd7046518480e2fb30df105c3ceac8a66e0e17bfb4af02ad01841e267b22d744803f2c3aa', overwrite=True)\n",
    "backend = provider.get_backend('ibmq_qasm_simulator') # Specifies the quantum device\n",
    "\n",
    "print('\\n Shors Algorithm')\n",
    "print('--------------------')\n",
    "print('\\nExecuting...\\n')\n",
    "\n",
    "factors = Shor(35) #Function to run Shor's algorithm where 21 is the integer to be factored\n",
    "\n",
    "result_dict = factors.run(QuantumInstance(backend, shots=1, skip_qobj_validation=False))\n",
    "result = result_dict['factors'] # Get factors from results\n",
    "\n",
    "print(result)\n",
    "print('\\nPress any key to close')\n",
    "input()"
   ]
  },
  {
   "cell_type": "code",
   "execution_count": null,
   "metadata": {},
   "outputs": [],
   "source": [
    "\n",
    "\n",
    "\n"
   ]
  }
 ],
 "metadata": {
  "kernelspec": {
   "display_name": "Python 3",
   "language": "python",
   "name": "python3"
  },
  "language_info": {
   "codemirror_mode": {
    "name": "ipython",
    "version": 3
   },
   "file_extension": ".py",
   "mimetype": "text/x-python",
   "name": "python",
   "nbconvert_exporter": "python",
   "pygments_lexer": "ipython3",
   "version": "3.7.6"
  }
 },
 "nbformat": 4,
 "nbformat_minor": 4
}
