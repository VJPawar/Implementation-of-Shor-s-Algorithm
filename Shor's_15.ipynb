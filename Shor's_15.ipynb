{
 "cells": [
  {
   "cell_type": "code",
   "execution_count": 3,
   "metadata": {},
   "outputs": [],
   "source": [
    "from qiskit import IBMQ\n",
    "from qiskit.aqua import QuantumInstance\n",
    "from qiskit.aqua.algorithms import Shor"
   ]
  },
  {
   "cell_type": "code",
   "execution_count": null,
   "metadata": {},
   "outputs": [
    {
     "name": "stdout",
     "output_type": "stream",
     "text": [
      "\n",
      " Shors Algorithm\n",
      "--------------------\n",
      "\n",
      "Executing...\n",
      "\n",
      "[[3, 5]]\n",
      "\n",
      "Press any key to close\n"
     ]
    }
   ],
   "source": [
    "IBMQ.enable_account('d1b6f8a789a4ecbedeae4d4e88046dc2f82993a5a8dfa99b204126a6af80cd671c38aef4165e0b568e120d719fa9d008931b585e8e5e7093978f9fe6a0818717') \n",
    "provider = IBMQ.get_provider(hub='ibm-q')\n",
    "\n",
    "IBMQ.save_account('f21fd5c2f9d2e8f9e637992efb38c67ee82b5b9a34498748717bf5fae55527f3b34e16077b633063ad6c10de79238d644773f4fd61f63d6b646ec23dc1a00c9e', overwrite=True)\n",
    "backend = provider.get_backend('ibmq_qasm_simulator') # Specifies the quantum device\n",
    "\n",
    "print('\\n Shors Algorithm')\n",
    "print('--------------------')\n",
    "print('\\nExecuting...\\n')\n",
    "\n",
    "factors = Shor(15) #Function to run Shor's algorithm where 21 is the integer to be factored\n",
    "\n",
    "result_dict = factors.run(QuantumInstance(backend, shots=1, skip_qobj_validation=False))\n",
    "result = result_dict['factors'] # Get factors from results\n",
    "\n",
    "print(result)\n",
    "print('\\nPress any key to close')\n",
    "input()"
   ]
  },
  {
   "cell_type": "code",
   "execution_count": null,
   "metadata": {},
   "outputs": [],
   "source": []
  }
 ],
 "metadata": {
  "kernelspec": {
   "display_name": "Python 3",
   "language": "python",
   "name": "python3"
  },
  "language_info": {
   "codemirror_mode": {
    "name": "ipython",
    "version": 3
   },
   "file_extension": ".py",
   "mimetype": "text/x-python",
   "name": "python",
   "nbconvert_exporter": "python",
   "pygments_lexer": "ipython3",
   "version": "3.7.6"
  }
 },
 "nbformat": 4,
 "nbformat_minor": 4
}
